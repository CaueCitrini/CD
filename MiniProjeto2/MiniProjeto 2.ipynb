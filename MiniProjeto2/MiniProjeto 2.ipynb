{
 "cells": [
  {
   "cell_type": "markdown",
   "metadata": {},
   "source": [
    "# Mini Projeto 2 - Teorema do Limite Central\n",
    "___\n",
    "## <font color='red'>Cauê Citrini Lacava</font>\n",
    "\n",
    "### Introdução\n",
    "\n",
    "O teorema do limite central afirma que para qualquer tipo de distribuição a medida que o número de amostras aumenta a distribuição da Média Amostral se aproxima de uma distribuição normal com média igual a da amostra original.\n",
    "\n",
    "Realizando a simulação abaixo de distribuição da média amostral de uma distribuição de poisson com média 5, podemos enchergar que a medida que o número de amostras aumenta, a distribuição da média amostral se aproxima de uma distribuição normal de média 5 e diminui sua variância, concentrando os valores médios próximos a média."
   ]
  },
  {
   "cell_type": "code",
   "execution_count": 2,
   "metadata": {
    "collapsed": false
   },
   "outputs": [],
   "source": [
    "%matplotlib inline\n",
    "import pandas as pd\n",
    "import matplotlib.pyplot as plt\n",
    "import numpy as np\n",
    "import os\n",
    "from scipy import stats\n",
    "\n",
    "l = 5\n",
    "dist= stats.poisson(l)\n",
    "\n",
    "r = stats.poisson.rvs(mu=l, loc=0, size=1000000)\n",
    "\n",
    "mean = np.mean(r)\n",
    "var = np.var(r)"
   ]
  },
  {
   "cell_type": "code",
   "execution_count": 8,
   "metadata": {
    "collapsed": false
   },
   "outputs": [
    {
     "ename": "AttributeError",
     "evalue": "'tuple' object has no attribute 'hist'",
     "output_type": "error",
     "traceback": [
      "\u001b[0;31m---------------------------------------------------------------------------\u001b[0m",
      "\u001b[0;31mAttributeError\u001b[0m                            Traceback (most recent call last)",
      "\u001b[0;32m<ipython-input-8-14e40877d65d>\u001b[0m in \u001b[0;36m<module>\u001b[0;34m()\u001b[0m\n\u001b[1;32m      5\u001b[0m     \u001b[0mvmean\u001b[0m\u001b[0;34m.\u001b[0m\u001b[0mappend\u001b[0m\u001b[0;34m(\u001b[0m\u001b[0mnp\u001b[0m\u001b[0;34m.\u001b[0m\u001b[0mmean\u001b[0m\u001b[0;34m(\u001b[0m\u001b[0mvalores\u001b[0m\u001b[0;34m)\u001b[0m\u001b[0;34m)\u001b[0m\u001b[0;34m\u001b[0m\u001b[0m\n\u001b[1;32m      6\u001b[0m \u001b[0;34m\u001b[0m\u001b[0m\n\u001b[0;32m----> 7\u001b[0;31m \u001b[0mplot\u001b[0m\u001b[0;34m.\u001b[0m\u001b[0mhist\u001b[0m\u001b[0;34m(\u001b[0m\u001b[0mvmean\u001b[0m\u001b[0;34m)\u001b[0m\u001b[0;34m\u001b[0m\u001b[0m\n\u001b[0m\u001b[1;32m      8\u001b[0m \u001b[0mplt\u001b[0m\u001b[0;34m.\u001b[0m\u001b[0mtitle\u001b[0m\u001b[0;34m(\u001b[0m\u001b[0;34m\"Distribuição da Média Amostral (n = {0})\"\u001b[0m \u001b[0;34m.\u001b[0m\u001b[0mformat\u001b[0m\u001b[0;34m(\u001b[0m\u001b[0mn\u001b[0m\u001b[0;34m)\u001b[0m\u001b[0;34m)\u001b[0m\u001b[0;34m\u001b[0m\u001b[0m\n\u001b[1;32m      9\u001b[0m \u001b[0;34m\u001b[0m\u001b[0m\n",
      "\u001b[0;31mAttributeError\u001b[0m: 'tuple' object has no attribute 'hist'"
     ]
    }
   ],
   "source": [
    "n = 2\n",
    "vmean = []\n",
    "for i in range (0,10001):\n",
    "    valores = np.random.choice(r,n)\n",
    "    vmean.append(np.mean(valores))\n",
    "\n",
    "plot.hist(vmean)\n",
    "plt.title(\"Distribuição da Média Amostral (n = {0})\" .format(n))\n",
    "\n",
    "media = np.mean(vmean)\n",
    "variancia = np.var(vmean)\n",
    "print(\"Valor médio: {0}\" .format(media))\n",
    "print(\"Variância: {0}\" .format(variancia))"
   ]
  },
  {
   "cell_type": "code",
   "execution_count": 78,
   "metadata": {
    "collapsed": false
   },
   "outputs": [
    {
     "name": "stdout",
     "output_type": "stream",
     "text": [
      "Valor médio: 4.9951504849515045\n",
      "Variância: 0.25031244860715407\n"
     ]
    },
    {
     "data": {
      "image/png": "[encoded data removed]",
      "text/plain": [
       "<matplotlib.figure.Figure at 0x11d3bbac8>"
      ]
     },
     "metadata": {},
     "output_type": "display_data"
    }
   ],
   "source": [
    "n = 20\n",
    "vmean = []\n",
    "for i in range (0,10001):\n",
    "    valores = np.random.choice(r,n)\n",
    "    vmean.append(np.mean(valores))\n",
    "\n",
    "plt.hist(vmean)\n",
    "plt.title(\"Distribuição da Média Amostral (n = {0})\" .format(n))\n",
    "\n",
    "media = np.mean(vmean)\n",
    "variancia = np.var(vmean)\n",
    "print(\"Valor médio: {0}\" .format(media))\n",
    "print(\"Variância: {0}\" .format(variancia))"
   ]
  },
  {
   "cell_type": "code",
   "execution_count": 79,
   "metadata": {
    "collapsed": false
   },
   "outputs": [
    {
     "name": "stdout",
     "output_type": "stream",
     "text": [
      "Valor médio: 4.994374562543745\n",
      "Variância: 0.09918263302556857\n"
     ]
    },
    {
     "data": {
      "image/png": "[encoded data removed]",
      "text/plain": [
       "<matplotlib.figure.Figure at 0x120cf10f0>"
      ]
     },
     "metadata": {},
     "output_type": "display_data"
    }
   ],
   "source": [
    "n = 50\n",
    "vmean = []\n",
    "for i in range (0,10001):\n",
    "    valores = np.random.choice(r,n)\n",
    "    vmean.append(np.mean(valores))\n",
    "\n",
    "plt.hist(vmean)\n",
    "plt.title(\"Distribuição da Média Amostral (n = {0})\" .format(n))\n",
    "\n",
    "media = np.mean(vmean)\n",
    "variancia = np.var(vmean)\n",
    "print(\"Valor médio: {0}\" .format(media))\n",
    "print(\"Variância: {0}\" .format(variancia))"
   ]
  },
  {
   "cell_type": "markdown",
   "metadata": {},
   "source": [
    "### Resultado \n",
    "\n",
    "Podemos observar nos histogramas acima que a medida que o número de coletas aumenta a distribuição da média amostral se aproxima de uma distribuição normal com média igual a da amostra original.\n",
    "\n",
    "Abaixo estão os histogramas das distribuiçõs da Média Amostral para n = 2 e n = 50"
   ]
  },
  {
   "cell_type": "code",
   "execution_count": 105,
   "metadata": {
    "collapsed": false
   },
   "outputs": [
    {
     "data": {
      "text/plain": [
       "<matplotlib.text.Text at 0x117412be0>"
      ]
     },
     "execution_count": 105,
     "metadata": {},
     "output_type": "execute_result"
    },
    {
     "data": {
      "image/png": "[encoded data removed]",
      "text/plain": [
       "<matplotlib.figure.Figure at 0x120374278>"
      ]
     },
     "metadata": {},
     "output_type": "display_data"
    }
   ],
   "source": [
    "n = 2\n",
    "vmean2 = []\n",
    "for i in range (0,10001):\n",
    "    valores = np.random.choice(r,n)\n",
    "    vmean2.append(np.mean(valores))\n",
    "    \n",
    "n = 50\n",
    "vmean50 = []\n",
    "for i in range (0,10001):\n",
    "    valores = np.random.choice(r,n)\n",
    "    vmean50.append(np.mean(valores))\n",
    "\n",
    "plt.subplot(2,1,1)\n",
    "plt.hist(vmean2)\n",
    "plt.title(\"Distribuição da Média Amostral (n = 2)\")\n",
    "\n",
    "plt.subplot(2,1,2)\n",
    "plt.hist(vmean50)\n",
    "plt.title(\"Distribuição da Média Amostral (n = 50)\")"
   ]
  },
  {
   "cell_type": "code",
   "execution_count": 81,
   "metadata": {
    "collapsed": false
   },
   "outputs": [
    {
     "data": {
      "text/plain": [
       "(array([  3.93000000e+02,   2.25400000e+03,   1.74000000e+03,\n",
       "          3.20300000e+03,   1.04000000e+03,   1.02500000e+03,\n",
       "          3.00000000e+02,   2.80000000e+01,   1.60000000e+01,\n",
       "          2.00000000e+00]),\n",
       " array([  0. ,   1.6,   3.2,   4.8,   6.4,   8. ,   9.6,  11.2,  12.8,\n",
       "         14.4,  16. ]),\n",
       " <a list of 10 Patch objects>)"
      ]
     },
     "execution_count": 81,
     "metadata": {},
     "output_type": "execute_result"
    },
    {
     "data": {
      "image/png": "[encoded data removed]",
      "text/plain": [
       "<matplotlib.figure.Figure at 0x1204c19b0>"
      ]
     },
     "metadata": {},
     "output_type": "display_data"
    }
   ],
   "source": [
    "vmean=[]\n",
    "\n",
    "primeiro= []\n",
    "nono = []\n",
    "\n",
    "for i in range (0,10001):\n",
    "    valores = np.random.choice(r,50)\n",
    "    primeiro.append(valores[0])\n",
    "    nono.append(valores[9])\n",
    "    vmean.append(np.mean(valores))\n",
    "\n",
    "\n",
    "plt.hist(primeiro)\n",
    "plt.hist(nono)"
   ]
  },
  {
   "cell_type": "code",
   "execution_count": 82,
   "metadata": {
    "collapsed": false
   },
   "outputs": [
    {
     "name": "stdout",
     "output_type": "stream",
     "text": [
      "Correlação X1 e X9: [[  7.82521169e-03   8.84409579e-05]\n",
      " [  8.84409579e-05   7.95715404e-03]]\n"
     ]
    }
   ],
   "source": [
    "primeiro_despad= (np.var(primeiro))**2\n",
    "nono_despad=(np.var(nono))**2\n",
    "cov = np.cov(primeiro,nono)\n",
    "print(\"Correlação X1 e X9: {0}\".format(cov/(primeiro_despad*nono_despad)))"
   ]
  }
 ],
 "metadata": {
  "kernelspec": {
   "display_name": "Python 3",
   "language": "python",
   "name": "python3"
  },
  "language_info": {
   "codemirror_mode": {
    "name": "ipython",
    "version": 3
   },
   "file_extension": ".py",
   "mimetype": "text/x-python",
   "name": "python",
   "nbconvert_exporter": "python",
   "pygments_lexer": "ipython3",
   "version": "3.5.1"
  }
 },
 "nbformat": 4,
 "nbformat_minor": 0
}
