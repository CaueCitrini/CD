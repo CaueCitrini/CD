{
 "cells": [
  {
   "cell_type": "markdown",
   "metadata": {},
   "source": [
    "# <font color='red'>Projeto 2 - Teste AB</font>\n",
    "\n",
    "## Grupo: Cauê Citrini, Eduardo Gebara, Gabriel Noal e Rene Martinez\n",
    "\n",
    "___\n",
    "### Introdução\n",
    "\n",
    "O projeto consiste em analizar as técnicas inferenciais adequadas para analizar duas amostras de tempo coletadas pelo teste realizado no site portifólio dos integrantes do grupo, na primeira versão do teste o botão de retorno a página inicial é um link e na outra versão uma imagem, dessa forma testaremos em qual dos casos os usuários levariam menos tempo para retornar a página inicial."
   ]
  },
  {
   "cell_type": "markdown",
   "metadata": {},
   "source": [
    "### Versão Link"
   ]
  },
  {
   "cell_type": "code",
   "execution_count": null,
   "metadata": {
    "collapsed": false
   },
   "outputs": [],
   "source": []
  },
  {
   "cell_type": "markdown",
   "metadata": {},
   "source": [
    "### Versão Imagem"
   ]
  },
  {
   "cell_type": "code",
   "execution_count": 3,
   "metadata": {
    "collapsed": false
   },
   "outputs": [
    {
     "ename": "SyntaxError",
     "evalue": "invalid syntax (<ipython-input-3-c0a9ec7e32eb>, line 1)",
     "output_type": "error",
     "traceback": [
      "\u001b[0;36m  File \u001b[0;32m\"<ipython-input-3-c0a9ec7e32eb>\"\u001b[0;36m, line \u001b[0;32m1\u001b[0m\n\u001b[0;31m    <img src=\"files/img.jpeg\">\u001b[0m\n\u001b[0m    ^\u001b[0m\n\u001b[0;31mSyntaxError\u001b[0m\u001b[0;31m:\u001b[0m invalid syntax\n"
     ]
    }
   ],
   "source": [
    "<img src=\"files/img.jpeg\">"
   ]
  },
  {
   "cell_type": "code",
   "execution_count": 4,
   "metadata": {
    "collapsed": true
   },
   "outputs": [],
   "source": [
    "import numpy as np\n",
    "import pandas as pd\n",
    "import json\n",
    "import itertools\n",
    "import matplotlib.pyplot as plt\n",
    "import numpy.random as rnd\n",
    "from scipy.stats import norm, t\n",
    "%matplotlib inline"
   ]
  },
  {
   "cell_type": "markdown",
   "metadata": {},
   "source": [
    "___\n",
    "### Técnica Inferencial"
   ]
  },
  {
   "cell_type": "markdown",
   "metadata": {},
   "source": [
    "Inicialmente, vamos analisar qual é a melhor técnica inferencial para noss projeto. Para isso, vamos gerar dois conjuntos de dados ficticios que simulam os dados que obteremos pelo teste AB realizado no site. A partir dos dados elaboraremos o teste de hipóteses capaz de averiguar qual dos modelos de site é o mais eficiente para o usuário. "
   ]
  },
  {
   "cell_type": "code",
   "execution_count": 5,
   "metadata": {
    "collapsed": false
   },
   "outputs": [],
   "source": [
    "#Amostra do teste A\n",
    "n1=50\n",
    "data1 = norm.rvs(20,4, size=n1)\n",
    "mu1=np.mean(data1)\n",
    "S1=np.var(data1)**0.5"
   ]
  },
  {
   "cell_type": "code",
   "execution_count": 6,
   "metadata": {
    "collapsed": false
   },
   "outputs": [],
   "source": [
    "#Amostra do teste B\n",
    "n2=50\n",
    "data2 = norm.rvs(22,4, size=n2)\n",
    "mu2=np.mean(data2)\n",
    "S2=np.var(data2)**0.5"
   ]
  },
  {
   "cell_type": "markdown",
   "metadata": {},
   "source": [
    "Em nosso teste as amostras são independentes, já que pessoas distintas são submetidas a apenas um dos testes dessa forma o resultado de um não condiciona o resultado do outro. Podemos afirmar também que as variâncias são desconhecidas ja que nenhum teste anterior foi realizado e não possuimos quaisquer outra evidência que informe esse parâmetro. Por conta disso, estimaremos as variâncias a partir de S1 e S2.\n",
    "\n",
    "Por conta disso, utilizaremos o teste t-Student ideal para esse tipo de comparação de duas médias.\n",
    "___\n",
    "As hipoteses sobre a média de tempo para a realização da tafera nos testes A e B são:\n",
    "\n",
    "#### H nula: μa = μb\n",
    "\n",
    "#### H alternativa: μa > μb\n",
    "\n",
    "Adotamos o valor de 5% como nível de siginificância para nosso teste e como se trata de um teste unilateral, podemos demonstrar a região crítica pelo intervalo:\n",
    "\n",
    "#### RC = {T > tc}\n",
    "\n",
    "Onde tc é o valor crítico. Portanto rejeitaremos a hipotese nula caso o valor obtido pelo teste pertencer a região crítica.\n",
    "\n",
    "Realizando o teste para verificar a Hipotese nula temos:"
   ]
  },
  {
   "cell_type": "code",
   "execution_count": 16,
   "metadata": {
    "collapsed": false
   },
   "outputs": [
    {
     "name": "stdout",
     "output_type": "stream",
     "text": [
      "O grau de liberdade é: 9\n",
      "O valor T é: -0.10571869317899174\n",
      "A hipotese nula não foi rejeitada\n"
     ]
    }
   ],
   "source": [
    "#Teste T-Student\n",
    "mu3 = mu1-mu2\n",
    "\n",
    "#Distribuição T\n",
    "T=mu3/((S1**2/n1)+(S2**2/n2))**0.5\n",
    "\n",
    "#Grau de liberdade\n",
    "v1 = ((S1**2/n1)+(S2**2/n2))**2 \n",
    "v2 = ((S1**2/n1)**2)/(n1-1)\n",
    "v3 = ((S2**2/n2)**2)/(n2-1)\n",
    "\n",
    "v = v1/(v2+v3)\n",
    "print(\"O grau de liberdade é: {0}\".format(int(v)))\n",
    "print(\"O valor T é: {0}\".format(T))\n",
    "\n",
    "tc = 1.658\n",
    "\n",
    "if T>tc or T<-tc:\n",
    "    print(\"A hipotese nula foi rejeitada\")\n",
    "\n",
    "else:\n",
    "    print(\"A hipotese nula não foi rejeitada\")"
   ]
  },
  {
   "cell_type": "markdown",
   "metadata": {
    "collapsed": true
   },
   "source": [
    "___\n",
    "### Análise dos dados reais\n",
    "\n",
    "Mantendo o método descrito na técnica inferencial, realizaremos o teste de hipotese:\n",
    "\n",
    "#### H nula: μa = μb\n",
    "\n",
    "#### H alternativa: μa > μb\n",
    "\n",
    "Adotamos o valor de 5% como nível de siginificância para nosso teste e como se trata de um teste unilateral, podemos demonstrar a região crítica pelo intervalo:\n",
    "\n",
    "#### RC = {T > tc}\n",
    "\n",
    "Este tc equivale a 45764.78 milisegundos."
   ]
  },
  {
   "cell_type": "code",
   "execution_count": 17,
   "metadata": {
    "collapsed": false
   },
   "outputs": [],
   "source": [
    "arquivo = open(\"projeto-2-teste-ab-export.json\")\n",
    "linhas = arquivo.readlines()\n",
    "texto = \"\".join(linhas)\n",
    "dados_fire = json.loads(texto)"
   ]
  },
  {
   "cell_type": "code",
   "execution_count": 18,
   "metadata": {
    "collapsed": false
   },
   "outputs": [],
   "source": [
    "for k,v in dados_fire[\"projeto-2-teste-ab\"].items():\n",
    "    # print(k,v) # habilite para imprimir as chaves de mais alto nível\n",
    "    for chave, valor in v.items():\n",
    "        # print(chave, valor) # habilite para imprimir as chaves inferiores\n",
    "        pass # desabilite quando reabilitar a linha de cima"
   ]
  },
  {
   "cell_type": "code",
   "execution_count": 19,
   "metadata": {
    "collapsed": false
   },
   "outputs": [],
   "source": [
    "lista_dicionarios = []\n",
    "\n",
    "for k,v in dados_fire[\"projeto-2-teste-ab\"].items():\n",
    "    lista_dicionarios.append(v)\n",
    "    \n",
    "dataframe = pd.DataFrame.from_records(lista_dicionarios)"
   ]
  },
  {
   "cell_type": "markdown",
   "metadata": {},
   "source": [
    "## Comparação dos Histogramas\n"
   ]
  },
  {
   "cell_type": "code",
   "execution_count": 20,
   "metadata": {
    "collapsed": false,
    "scrolled": true
   },
   "outputs": [
    {
     "data": {
      "text/plain": [
       "(array([ 5.,  0.,  0.,  1.,  0.,  0.,  0.,  0.,  0.,  1.]),\n",
       " array([   6211. ,   22671.6,   39132.2,   55592.8,   72053.4,   88514. ,\n",
       "         104974.6,  121435.2,  137895.8,  154356.4,  170817. ]),\n",
       " <a list of 10 Patch objects>)"
      ]
     },
     "execution_count": 20,
     "metadata": {},
     "output_type": "execute_result"
    },
    {
     "data": {
      "image/png": "[encoded data removed]",
      "text/plain": [
       "<matplotlib.figure.Figure at 0x119269080>"
      ]
     },
     "metadata": {},
     "output_type": "display_data"
    }
   ],
   "source": [
    "tempos_A = list(dataframe[dataframe.versao==\"Link\"].tempo)\n",
    "tempos_B = list(dataframe[dataframe.versao==\"Imagem\"].tempo)\n",
    "\n",
    "plt.hist(tempos_A, bins=10, alpha=0.5)\n",
    "plt.hist(tempos_B, bins=10, alpha=0.5)"
   ]
  },
  {
   "cell_type": "code",
   "execution_count": 23,
   "metadata": {
    "collapsed": false,
    "scrolled": true
   },
   "outputs": [
    {
     "name": "stdout",
     "output_type": "stream",
     "text": [
      "Grau de liberdade: 9\n",
      "Valor T: -0.10571869317899174\n",
      "A hipotese nula não foi rejeitada\n"
     ]
    }
   ],
   "source": [
    "mu1=np.mean(tempos_A)\n",
    "S1=np.var(tempos_A)**0.5\n",
    "n1=len(tempos_A)\n",
    "\n",
    "mu2=np.mean(tempos_B)\n",
    "S2=np.var(tempos_B)**0.5\n",
    "n2=len(tempos_B)\n",
    "\n",
    "#Teste T-Student\n",
    "mu3 = mu1-mu2\n",
    "\n",
    "#Distribuição T\n",
    "denominador_t = ((S1**2/n1)+(S2**2/n2))**0.5 #Raiz da soma dos desvios padrões dividido pela raiz do numero de amostras\n",
    "T=mu3/denominador_t\n",
    "\n",
    "#Grau de liberdade\n",
    "v1 = ((S1**2/n1)+(S2**2/n2))**2 \n",
    "v2 = ((S1**2/n1)**2)/(n1-1)\n",
    "v3 = ((S2**2/n2)**2)/(n2-1)\n",
    "\n",
    "v = v1/(v2+v3)\n",
    "print(\"Grau de liberdade: {0}\".format(int(v)))\n",
    "print(\"Valor T: {0}\".format(T))\n",
    "\n",
    "tc = 1.833\n",
    "\n",
    "if T>tc or T<-tc:\n",
    "    print(\"A hipotese nula foi rejeitada\")\n",
    "\n",
    "else:\n",
    "    print(\"A hipotese nula não foi rejeitada\")"
   ]
  },
  {
   "cell_type": "markdown",
   "metadata": {},
   "source": [
    "### Conclusão"
   ]
  },
  {
   "cell_type": "code",
   "execution_count": 25,
   "metadata": {
    "collapsed": false
   },
   "outputs": [
    {
     "name": "stdout",
     "output_type": "stream",
     "text": [
      "Valor da média do teste A: 37565.0\n",
      "Valor tc em milisegundos: 44252.71987012598\n"
     ]
    }
   ],
   "source": [
    "x_barra = tc*denominador_t\n",
    "print(\"Valor da média do teste A: {0}\".format(mu1))\n",
    "print(\"Valor tc em milisegundos: {0}\".format(x_barra))"
   ]
  },
  {
   "cell_type": "markdown",
   "metadata": {},
   "source": [
    "Realizando a compração entre a média do Teste A e o valor equivalente ao tc em milisengundos podemos enxergar novamente que para um grau de significância de 5% a hipótese nula não pode ser rejeitada."
   ]
  }
 ],
 "metadata": {
  "kernelspec": {
   "display_name": "Python 3",
   "language": "python",
   "name": "python3"
  },
  "language_info": {
   "codemirror_mode": {
    "name": "ipython",
    "version": 3
   },
   "file_extension": ".py",
   "mimetype": "text/x-python",
   "name": "python",
   "nbconvert_exporter": "python",
   "pygments_lexer": "ipython3",
   "version": "3.5.1"
  }
 },
 "nbformat": 4,
 "nbformat_minor": 0
}
